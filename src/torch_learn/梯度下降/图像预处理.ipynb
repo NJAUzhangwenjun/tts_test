{
 "cells": [
  {
   "cell_type": "code",
   "execution_count": 2,
   "metadata": {},
   "outputs": [],
   "source": [
    "\"\"\"\n",
    "• torchvision.transforms : 常用的图像预处理方法\n",
    "• torchvision.datasets : 常用数据集的dataset实现，MNIST，CIFAR-10，ImageNet等\n",
    "• torchvision.model : 常用的模型预训练，AlexNet，VGG， ResNet，GoogLeNet等\n",
    "\"\"\"\n",
    "\n",
    "# torch   学习之  图像预处理\n",
    "import torchvision.transforms as transforms"
   ]
  },
  {
   "cell_type": "code",
   "execution_count": 21,
   "metadata": {},
   "outputs": [],
   "source": [
    "\"\"\"\n",
    "数据预处理方法：数据中心化；数据标准化；缩放；裁剪；旋转；填充；噪声添加；灰度变换；线性变换；仿射变换；亮度、饱和度及对比度变换等\n",
    "compose将一系列transforms方法进行有序组合包装，依次按顺序的对图像进行操作\n",
    "\"\"\"\n",
    "\n",
    "\"\"\"\n",
    "• transforms.Compose: 将一系列的transforms方法进行有序的组合包装，依次按顺序的对图像进行操作\n",
    "• transforms.Resize: 改变图像大小\n",
    "• transforms.RandomCrop: 对图像进行裁剪（这个在训练集里面用，验证集就用不到了）\n",
    "• transforms.ToTensor: 将图像转换成张量，同时会进行归一化的一个操作，将张量的值从0-255转到0-1\n",
    "• transforms.Normalize: 将数据进行标准化\n",
    "\"\"\"\n",
    "norm_mean = [0.4914, 0.4822, 0.4465]  #RGB三个通道的均值:平均值\n",
    "norm_std = [0.5, 0.5, 0.5]   #RGB三个通道的标准差:标准差\n",
    "\n",
    "#训练集数据预处理\n",
    "train_transform = transforms.Compose([ \n",
    "    transforms.Resize((512, 512)),    #缩放\n",
    "    transforms.RandomCrop(512, padding=4),   #随机裁剪\n",
    "    transforms.ToTensor(),  #转为tensor，同时进行归一化操作，将像素值的区间从0-255变为0-1\n",
    "    transforms.Normalize(norm_mean, norm_std),  #数据标准化，均值变为0，标准差变为1,归一化处理\n",
    "    \n",
    "])\n",
    " \n",
    "#验证集数据预处理\n",
    "valid_transform = transforms.Compose([  #测试时不需要数据增强\n",
    "    transforms.Resize((512, 512)),\n",
    "    transforms.ToTensor(),\n",
    "    transforms.Normalize(norm_mean, norm_std),\n",
    "])\n",
    "\n",
    "\n",
    "\n"
   ]
  },
  {
   "cell_type": "code",
   "execution_count": 22,
   "metadata": {},
   "outputs": [
    {
     "name": "stdout",
     "output_type": "stream",
     "text": [
      "(500, 375)\n",
      "torch.Size([3, 375, 500])\n"
     ]
    }
   ],
   "source": [
    "from  PIL import Image\n",
    "img_path = '/Users/zhangwenjun/Documents/javaFiles/tts_test/voice_test/hymenoptera_data/train/ants/5650366_e22b7e1065.jpg'\n",
    "img = Image.open(img_path)\n",
    "print(img.size)  #输出图像的尺寸\n",
    "\n",
    "tensor_transform = transforms.ToTensor()\n",
    "img_tensor = tensor_transform(img)  #将图像转为tensor\n",
    "print(img_tensor.size())  #输出tensor的尺寸"
   ]
  },
  {
   "cell_type": "code",
   "execution_count": 25,
   "metadata": {},
   "outputs": [],
   "source": [
    "\n",
    "# SummryWriter\n",
    "from torch.utils.tensorboard import SummaryWriter\n",
    "\n",
    "writer = SummaryWriter('/Users/zhangwenjun/Documents/javaFiles/tts_test/voice_test/梯度下降/runs/mnist')  #创建一个SummaryWriter对象\n",
    "\n",
    "writer.add_image('img_tensor', img_tensor, 1)  #将图像写入到tensorboard中\n",
    "# writer.close()  #关闭SummaryWriter对象\n"
   ]
  },
  {
   "cell_type": "code",
   "execution_count": 28,
   "metadata": {},
   "outputs": [
    {
     "name": "stdout",
     "output_type": "stream",
     "text": [
      "tensor(0.3804)\n"
     ]
    },
    {
     "name": "stdout",
     "output_type": "stream",
     "text": [
      "tensor(-0.2220)\n",
      "tensor(-0.9828)\n"
     ]
    }
   ],
   "source": [
    "print(img_tensor[0][0][0])  #输出tensor的值\n",
    "# train_transform_img = train_transform(img)  #将图像进行预处理\n",
    "valid_transform_img = valid_transform(img)  #将图像进行预处理\n",
    "# print(valid_transform_img.size())  #输出预处理后的tensor的尺寸\n",
    "print(valid_transform_img[0][0][0])  #输出预处理后的tensor的值\n",
    "writer.add_image('img_tensor', valid_transform_img, 2)  #将预处理后的图像写入到tensorboard中\n",
    "\n",
    "train_transform_img = train_transform(img)  #将图像进行预处理\n",
    "print(train_transform_img[0][0][0])  #输出预处理后的tensor的值\n",
    "writer.add_image('img_tensor', train_transform_img, 4)  #将预处理后的图像写入到tensorboard中\n",
    "writer.close()  #关闭SummaryWriter对象"
   ]
  }
 ],
 "metadata": {
  "kernelspec": {
   "display_name": "venv",
   "language": "python",
   "name": "python3"
  },
  "language_info": {
   "codemirror_mode": {
    "name": "ipython",
    "version": 3
   },
   "file_extension": ".py",
   "mimetype": "text/x-python",
   "name": "python",
   "nbconvert_exporter": "python",
   "pygments_lexer": "ipython3",
   "version": "3.9.18"
  }
 },
 "nbformat": 4,
 "nbformat_minor": 2
}

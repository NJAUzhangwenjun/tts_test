{
 "cells": [
  {
   "cell_type": "code",
   "execution_count": 1,
   "metadata": {},
   "outputs": [
    {
     "data": {
      "text/plain": [
       "'\\n张量学习\\n'"
      ]
     },
     "execution_count": 1,
     "metadata": {},
     "output_type": "execute_result"
    }
   ],
   "source": [
    "from __future__ import print_function\n",
    "import torch\n",
    "\n",
    "\"\"\"\n",
    "张量学习\n",
    "\"\"\""
   ]
  },
  {
   "cell_type": "code",
   "execution_count": 13,
   "metadata": {},
   "outputs": [
    {
     "name": "stdout",
     "output_type": "stream",
     "text": [
      "tensor([[ 1.2405, -1.4155, -1.0716,  0.0255],\n",
      "        [ 0.7727,  1.0194,  0.0861,  0.9605],\n",
      "        [ 1.7980, -0.8417, -0.6597,  0.2921],\n",
      "        [-1.1803,  0.2071, -0.9671,  0.1833],\n",
      "        [ 0.9041,  1.2528,  0.7225,  2.7032]])\n",
      "tensor([-1.4155,  1.0194, -0.8417,  0.2071,  1.2528])\n",
      "torch.Size([5, 4])\n"
     ]
    }
   ],
   "source": [
    "#打印x的第一列\n",
    "x = torch.randn(5, 4)\n",
    "print(x)\n",
    "print(x[:, 1])\n",
    "print(x.size())\n",
    "\n",
    "x  =  x.view(-1,10)\n",
    "c = x.shape"
   ]
  },
  {
   "cell_type": "code",
   "execution_count": 28,
   "metadata": {},
   "outputs": [
    {
     "name": "stdout",
     "output_type": "stream",
     "text": [
      "tensor([[ 0.3896,  1.1393,  2.0394,  1.3877, -0.0297],\n",
      "        [-0.2299, -0.9294,  1.5241,  0.8195,  0.2001],\n",
      "        [ 0.0204,  0.6847,  1.0166,  0.8417, -1.3539]])\n",
      "[[ 0.38963652  1.139321    2.0394287   1.3876772  -0.02971888]\n",
      " [-0.2299074  -0.92935646  1.5240564   0.8195133   0.20006967]\n",
      " [ 0.02036554  0.6846626   1.016598    0.8416998  -1.35391   ]]\n"
     ]
    }
   ],
   "source": [
    "# 将 x Torch Tensor转换成NumPy数组\n",
    "x = torch.randn(3,5)\n",
    "x+=1\n",
    "print(x)\n",
    "x = x.numpy()\n",
    "print(x)"
   ]
  },
  {
   "cell_type": "code",
   "execution_count": 33,
   "metadata": {},
   "outputs": [
    {
     "name": "stdout",
     "output_type": "stream",
     "text": [
      "[1. 1. 1. 1. 1. 1. 1. 1. 1. 1. 1. 1. 1. 1. 1.]\n",
      "tensor([[1., 1., 1.],\n",
      "        [1., 1., 1.],\n",
      "        [1., 1., 1.],\n",
      "        [1., 1., 1.],\n",
      "        [1., 1., 1.]], dtype=torch.float64)\n"
     ]
    }
   ],
   "source": [
    "# 把NumPy数组转成Torch Tensor的代码示例为：\n",
    "import numpy as np\n",
    "a = np.ones(15)\n",
    "print(a)\n",
    "b = torch.from_numpy(a)\n",
    "b=b.view(-1,3)\n",
    "print(b)"
   ]
  }
 ],
 "metadata": {
  "kernelspec": {
   "display_name": "venv",
   "language": "python",
   "name": "python3"
  },
  "language_info": {
   "codemirror_mode": {
    "name": "ipython",
    "version": 3
   },
   "file_extension": ".py",
   "mimetype": "text/x-python",
   "name": "python",
   "nbconvert_exporter": "python",
   "pygments_lexer": "ipython3",
   "version": "3.9.18"
  }
 },
 "nbformat": 4,
 "nbformat_minor": 2
}

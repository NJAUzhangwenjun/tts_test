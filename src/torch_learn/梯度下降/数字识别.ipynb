{
 "cells": [
  {
   "cell_type": "code",
   "execution_count": null,
   "metadata": {},
   "outputs": [],
   "source": [
    "'''\n",
    "学习机器学习 训练一个简单的数字识别模型\n",
    "'''\n",
    "\n",
    "import numpy as np\n",
    "import matplotlib.pyplot as plt\n",
    "\n",
    "# TODO: 实现一个简单的数字识别模型\n",
    "\n",
    "dir(plt.Arrow)\n"
   ]
  },
  {
   "cell_type": "code",
   "execution_count": 5,
   "metadata": {},
   "outputs": [],
   "source": [
    "import os\n",
    "from torch.utils.data import DataLoader, Dataset\n",
    "import numpy as np\n",
    "\n",
    "# help(Dataset)\n",
    "\n",
    "\n",
    "class ImgDataset(Dataset):\n",
    "\n",
    "    \"\"\"数据集\n",
    "\n",
    "    Args:\n",
    "        img_path (str): 图片路径\n",
    "        label_path (str): 标签路径\n",
    "        \"\"\"\n",
    "\n",
    "    def __init__(self, img_path, label_path):\n",
    "        self.img_path = img_path\n",
    "        self.label_path = label_path\n",
    "        self.img_names = os.listdir(img_path)\n",
    "        self.label_names = os.listdir(label_path)\n",
    "\n",
    "    def __len__(self):\n",
    "        return len(self.img_names)\n",
    "\n",
    "    \"\"\"\n",
    "    \n",
    "    获取图片和标签\n",
    "    Args:\n",
    "        idx (int): 图片索引\n",
    "    Returns:\n",
    "        img (numpy.ndarray): 图片\n",
    "        label (numpy.ndarray): 标签\n",
    "    \"\"\"\n",
    "\n",
    "    def __getitem__(self, idx):\n",
    "        return np.load(self.img_path + self.img_names[idx]), np.load(self.label_path + self.label_names[idx])"
   ]
  },
  {
   "cell_type": "code",
   "execution_count": 8,
   "metadata": {},
   "outputs": [],
   "source": [
    "# summaryWriter\n",
    "from torch.utils.tensorboard import SummaryWriter\n",
    "import numpy as np\n",
    "\n",
    "writer = SummaryWriter('runs/mnist')\n",
    "\n",
    "# mock data\n",
    "x = np.random.randn(100, 1)\n",
    "y = 2 * x + 1 + np.random.randn(100, 1)\n",
    "data = np.concatenate((x, y), axis=1)\n",
    "\n",
    "for i in range(100):\n",
    "    writer.add_scalar('y=x+1', data[i, 1], i)\n",
    "writer.close()\n",
    "\n",
    "\n"
   ]
  }
 ],
 "metadata": {
  "kernelspec": {
   "display_name": "venv",
   "language": "python",
   "name": "python3"
  },
  "language_info": {
   "codemirror_mode": {
    "name": "ipython",
    "version": 3
   },
   "file_extension": ".py",
   "mimetype": "text/x-python",
   "name": "python",
   "nbconvert_exporter": "python",
   "pygments_lexer": "ipython3",
   "version": "3.9.18"
  }
 },
 "nbformat": 4,
 "nbformat_minor": 2
}
